{
 "cells": [
  {
   "cell_type": "markdown",
   "id": "280a83d5",
   "metadata": {},
   "source": [
    "# Part 1\n",
    "### Expresses the central motivation of the project in one or two sentences. This may evolve a bit through the project."
   ]
  },
  {
   "cell_type": "markdown",
   "id": "237f30b7",
   "metadata": {},
   "source": [
    "\n",
    "\n",
    "The central motivation for this project is to predict strong indicators of co-morbid diseases using attributes from data for middle aged women’s yearly doctor visits. For this, we will be using a dataset of 10 yearly doctor's visits for a group of middle aged women who have responded to a series of questions about their health. \n",
    "\n"
   ]
  },
  {
   "cell_type": "markdown",
   "id": "82cdc08f",
   "metadata": {},
   "source": [
    "# Part 2\n",
    "### Gives a summary of the data processing pipeline so a technical expert can easily follow along"
   ]
  },
  {
   "cell_type": "markdown",
   "id": "9f1316dc",
   "metadata": {},
   "source": [
    "For our data processing, we needed to read in each of the files separately. Each is stored as a TSV file, named similarly except for the visit number at the end of the file name. So looping through the values of our visits using the function to read csv files from the pandas package, with a separator of \\t rather than commas, we easily read our data into data frames. From here, we needed to add a column which stores the visit number, so for each row of the same patient id, we can distinguish from which visit this data was taken. \n",
    "\n",
    "When it came time to merge our datasets, we had to face our first problem in cleaning- inconsistent column names. The attributes in each data set have a specific name, followed by the number of the visit. For example, the CANCERS attribute, which asks if some health care provider had either told a patient that they had, or had treated them for cancer (other than skin cancer), is stored as CANCERS1 in the first visit data, but as CANCERS2 in our visit 2 data set, and so on. This meant that when merging our data frames, column names wouldn’t match, and so new columns would be added for each visits information. This quickly grew our data from and already massive 700 columns to over 8000 columns. To get around this, we removed the final number from each attribute name within each separate visit’s dataset, before we combined them. With this solution, our data was reduced to just over 1700 columns. This is still an issue for us, as it means some columns must still not line up, and it is something we are still actively working on.\n",
    "\n"
   ]
  },
  {
   "cell_type": "markdown",
   "id": "3224f9fc",
   "metadata": {},
   "source": [
    "We then started looking at columns that aren’t relevant to anything we’re interested in looking at. For example, there were over 10 columns per data set asking about the ages of people who live with a given patient. This information has essentially no use in our project, and is just further cluttering our data, so we decided to remove every column of this type, other than that of the actual patient's age. As we continue to find patterns in repetitive and unimportant columns, we will continue to reduce our attributes.\n",
    "\n",
    "Finally, in cleaning our data, we wanted to try to remove null values. Some columns in our data are entirely null, and some contain very few actually responses and are mostly, though not entirely, null as well. We decided that the best strategy to start with would be to remove any column in which over 75% of all column entries are NaN. Columns with such little actual information may be unreliable, or may simply have no weight in our analysis since there are so few cases. Thus, we decided so focus on the columns which more reliably can give us real information to build off of. After completing all of these cleaning methods, our merged table has shrunk from 8000 columns to 800. As we implement our machine learning methods, we hope to distinguish more useful and unuseful attributes that can further help us narrow down our columns."
   ]
  },
  {
   "cell_type": "markdown",
   "id": "342ab654",
   "metadata": {},
   "source": [
    "# Part 3\n"
   ]
  },
  {
   "cell_type": "code",
   "execution_count": 1,
   "id": "fa1ea174",
   "metadata": {
    "scrolled": false
   },
   "outputs": [
    {
     "name": "stderr",
     "output_type": "stream",
     "text": [
      "/Users/victoriamccray/opt/anaconda3/lib/python3.8/site-packages/IPython/core/interactiveshell.py:3165: DtypeWarning: Columns (3) have mixed types.Specify dtype option on import or set low_memory=False.\n",
      "  has_raised = await self.run_ast_nodes(code_ast.body, cell_name,\n",
      "/Users/victoriamccray/opt/anaconda3/lib/python3.8/site-packages/IPython/core/interactiveshell.py:3165: DtypeWarning: Columns (3,4,5,7,8,9,10,11,12,13,14,15,16,17,18,19,20,21,22,23,24,25,26,27,28,29,30,31,32,33,34,35,36,37,38,39,40,41,42,51,52,53,54,57,58,59,60,61,63,64,65,66,67,68,69,70,71,72,73,74,75,85,87,88,90,91,93,94,95,96,97,98,99,100,101,102,103,104,105,106,107,108,109,110,111,112,113,114,115,116,117,118,119,120,121,122,477,478,482,483,484,485,486,490,491,495,504,506,507,515,522,530,536,537,538,539,577) have mixed types.Specify dtype option on import or set low_memory=False.\n",
      "  has_raised = await self.run_ast_nodes(code_ast.body, cell_name,\n",
      "/Users/victoriamccray/opt/anaconda3/lib/python3.8/site-packages/IPython/core/interactiveshell.py:3165: DtypeWarning: Columns (3,4,5,51,57,63,67,71,504,522,1277) have mixed types.Specify dtype option on import or set low_memory=False.\n",
      "  has_raised = await self.run_ast_nodes(code_ast.body, cell_name,\n",
      "/Users/victoriamccray/opt/anaconda3/lib/python3.8/site-packages/IPython/core/interactiveshell.py:3165: DtypeWarning: Columns (2,3,4,5,6,7,8,9,10,11,12,13,14,15,16,17,18,19,20,21,22,23,24,25,26,27,28,29,30,31,32,33,34,35,36,37,38,39,40,41,46,47,48,49,50,51,52,53,56,57,58,59,60,61,62,63,64,65,66,67,68,69,70,71,72,73,74,75,84,86,87,90,91,94,95,96,97,98,99,100,101,102,103,104,105,106,107,108,109,110,111,112,113,114,115,116,117,118,119,120,121,122,123,477,478,482,483,484,485,486,490,491,492,495,504,506,507,515,522,523,525,530,535,536,537,538,563,567) have mixed types.Specify dtype option on import or set low_memory=False.\n",
      "  has_raised = await self.run_ast_nodes(code_ast.body, cell_name,\n"
     ]
    }
   ],
   "source": [
    "import pandas as pd\n",
    "import numpy as np\n",
    "\n",
    "data = pd.DataFrame()\n",
    "\n",
    "# reading in each of our ten files\n",
    "for i in range(1, 11):\n",
    "    filename = f\"0001-Data-{i}.tsv\"\n",
    "    \n",
    "    # reading visit file into a dataframe\n",
    "    with open(filename, \"r\") as infile:\n",
    "        visit_data = pd.read_csv(infile, sep = \"\\t\")\n",
    "        \n",
    "        # creating a column for the visit number\n",
    "        visit_data[\"visit\"] = i\n",
    "        \n",
    "        # removing the visit number from the end of each attribute name\n",
    "        for col in visit_data.columns:\n",
    "            if col[-len(str(i)):] == str(i):\n",
    "                visit_data.rename(columns={col:col[:-len(str(i))]}, inplace=True)\n",
    "        \n",
    "        # adding this visit data back to the merged dataframe\n",
    "        data = pd.concat([data, visit_data], ignore_index = True)"
   ]
  },
  {
   "cell_type": "code",
   "execution_count": 2,
   "id": "76604f1d",
   "metadata": {},
   "outputs": [],
   "source": [
    "# replacing blank cells with NaN\n",
    "data = data.replace(r'^\\s*$', np.nan, regex=True)\n",
    "\n",
    "for col in data.columns:\n",
    "    # removing columns about family age\n",
    "    if \"AGE\" in col and col != \"AGE\":\n",
    "        del data[col]\n",
    "    \n",
    "    # removing columns with > 75% NaN values\n",
    "    if col in data:\n",
    "        nas = data[col].isna().sum()\n",
    "        if nas > 3 * len(data[col]) / 4:\n",
    "            del data[col]\n"
   ]
  },
  {
   "cell_type": "code",
   "execution_count": 3,
   "id": "cc73fc8b",
   "metadata": {},
   "outputs": [
    {
     "data": {
      "text/html": [
       "<div>\n",
       "<style scoped>\n",
       "    .dataframe tbody tr th:only-of-type {\n",
       "        vertical-align: middle;\n",
       "    }\n",
       "\n",
       "    .dataframe tbody tr th {\n",
       "        vertical-align: top;\n",
       "    }\n",
       "\n",
       "    .dataframe thead th {\n",
       "        text-align: right;\n",
       "    }\n",
       "</style>\n",
       "<table border=\"1\" class=\"dataframe\">\n",
       "  <thead>\n",
       "    <tr style=\"text-align: right;\">\n",
       "      <th></th>\n",
       "      <th>SWANID</th>\n",
       "      <th>VISIT</th>\n",
       "      <th>INTDAY</th>\n",
       "      <th>AGE</th>\n",
       "      <th>LANGINT</th>\n",
       "      <th>RACE</th>\n",
       "      <th>PREGNAN</th>\n",
       "      <th>EATDRIN</th>\n",
       "      <th>STRTPER</th>\n",
       "      <th>DAYBLE</th>\n",
       "      <th>...</th>\n",
       "      <th>OSTEIV1</th>\n",
       "      <th>OSTEON1</th>\n",
       "      <th>OSTNTW1</th>\n",
       "      <th>OSTN1W1</th>\n",
       "      <th>OSTEON2</th>\n",
       "      <th>OSTNTW2</th>\n",
       "      <th>OSTN1W2</th>\n",
       "      <th>SKCNCER</th>\n",
       "      <th>MECNCER</th>\n",
       "      <th>NMECNCR</th>\n",
       "    </tr>\n",
       "  </thead>\n",
       "  <tbody>\n",
       "    <tr>\n",
       "      <th>0</th>\n",
       "      <td>10046</td>\n",
       "      <td>1</td>\n",
       "      <td>413</td>\n",
       "      <td>53</td>\n",
       "      <td>1</td>\n",
       "      <td>2</td>\n",
       "      <td>1</td>\n",
       "      <td>1</td>\n",
       "      <td>2</td>\n",
       "      <td>411</td>\n",
       "      <td>...</td>\n",
       "      <td>NaN</td>\n",
       "      <td>NaN</td>\n",
       "      <td>NaN</td>\n",
       "      <td>NaN</td>\n",
       "      <td>NaN</td>\n",
       "      <td>NaN</td>\n",
       "      <td>NaN</td>\n",
       "      <td>NaN</td>\n",
       "      <td>NaN</td>\n",
       "      <td>NaN</td>\n",
       "    </tr>\n",
       "    <tr>\n",
       "      <th>1</th>\n",
       "      <td>10056</td>\n",
       "      <td>1</td>\n",
       "      <td>357</td>\n",
       "      <td>52</td>\n",
       "      <td>1</td>\n",
       "      <td>4</td>\n",
       "      <td>1</td>\n",
       "      <td>1</td>\n",
       "      <td>2</td>\n",
       "      <td>377</td>\n",
       "      <td>...</td>\n",
       "      <td>NaN</td>\n",
       "      <td>NaN</td>\n",
       "      <td>NaN</td>\n",
       "      <td>NaN</td>\n",
       "      <td>NaN</td>\n",
       "      <td>NaN</td>\n",
       "      <td>NaN</td>\n",
       "      <td>NaN</td>\n",
       "      <td>NaN</td>\n",
       "      <td>NaN</td>\n",
       "    </tr>\n",
       "    <tr>\n",
       "      <th>2</th>\n",
       "      <td>10092</td>\n",
       "      <td>1</td>\n",
       "      <td>364</td>\n",
       "      <td>46</td>\n",
       "      <td>1</td>\n",
       "      <td>4</td>\n",
       "      <td>1</td>\n",
       "      <td>1</td>\n",
       "      <td>1</td>\n",
       "      <td>NaN</td>\n",
       "      <td>...</td>\n",
       "      <td>NaN</td>\n",
       "      <td>NaN</td>\n",
       "      <td>NaN</td>\n",
       "      <td>NaN</td>\n",
       "      <td>NaN</td>\n",
       "      <td>NaN</td>\n",
       "      <td>NaN</td>\n",
       "      <td>NaN</td>\n",
       "      <td>NaN</td>\n",
       "      <td>NaN</td>\n",
       "    </tr>\n",
       "    <tr>\n",
       "      <th>3</th>\n",
       "      <td>10126</td>\n",
       "      <td>1</td>\n",
       "      <td>442</td>\n",
       "      <td>50</td>\n",
       "      <td>1</td>\n",
       "      <td>1</td>\n",
       "      <td>1</td>\n",
       "      <td>1</td>\n",
       "      <td>2</td>\n",
       "      <td>453</td>\n",
       "      <td>...</td>\n",
       "      <td>NaN</td>\n",
       "      <td>NaN</td>\n",
       "      <td>NaN</td>\n",
       "      <td>NaN</td>\n",
       "      <td>NaN</td>\n",
       "      <td>NaN</td>\n",
       "      <td>NaN</td>\n",
       "      <td>NaN</td>\n",
       "      <td>NaN</td>\n",
       "      <td>NaN</td>\n",
       "    </tr>\n",
       "    <tr>\n",
       "      <th>4</th>\n",
       "      <td>10153</td>\n",
       "      <td>1</td>\n",
       "      <td>374</td>\n",
       "      <td>52</td>\n",
       "      <td>1</td>\n",
       "      <td>3</td>\n",
       "      <td>1</td>\n",
       "      <td>1</td>\n",
       "      <td>2</td>\n",
       "      <td>399</td>\n",
       "      <td>...</td>\n",
       "      <td>NaN</td>\n",
       "      <td>NaN</td>\n",
       "      <td>NaN</td>\n",
       "      <td>NaN</td>\n",
       "      <td>NaN</td>\n",
       "      <td>NaN</td>\n",
       "      <td>NaN</td>\n",
       "      <td>NaN</td>\n",
       "      <td>NaN</td>\n",
       "      <td>NaN</td>\n",
       "    </tr>\n",
       "    <tr>\n",
       "      <th>...</th>\n",
       "      <td>...</td>\n",
       "      <td>...</td>\n",
       "      <td>...</td>\n",
       "      <td>...</td>\n",
       "      <td>...</td>\n",
       "      <td>...</td>\n",
       "      <td>...</td>\n",
       "      <td>...</td>\n",
       "      <td>...</td>\n",
       "      <td>...</td>\n",
       "      <td>...</td>\n",
       "      <td>...</td>\n",
       "      <td>...</td>\n",
       "      <td>...</td>\n",
       "      <td>...</td>\n",
       "      <td>...</td>\n",
       "      <td>...</td>\n",
       "      <td>...</td>\n",
       "      <td>...</td>\n",
       "      <td>...</td>\n",
       "      <td>...</td>\n",
       "    </tr>\n",
       "    <tr>\n",
       "      <th>25482</th>\n",
       "      <td>99805</td>\n",
       "      <td>10</td>\n",
       "      <td>3661</td>\n",
       "      <td>52</td>\n",
       "      <td>1</td>\n",
       "      <td>1</td>\n",
       "      <td>1</td>\n",
       "      <td>1</td>\n",
       "      <td>1</td>\n",
       "      <td>NaN</td>\n",
       "      <td>...</td>\n",
       "      <td>1</td>\n",
       "      <td>1</td>\n",
       "      <td>-1</td>\n",
       "      <td>-1</td>\n",
       "      <td>-1</td>\n",
       "      <td>-1</td>\n",
       "      <td>-1</td>\n",
       "      <td>1</td>\n",
       "      <td>-1</td>\n",
       "      <td>-1</td>\n",
       "    </tr>\n",
       "    <tr>\n",
       "      <th>25483</th>\n",
       "      <td>99809</td>\n",
       "      <td>10</td>\n",
       "      <td>3624</td>\n",
       "      <td>53</td>\n",
       "      <td>1</td>\n",
       "      <td>4</td>\n",
       "      <td>1</td>\n",
       "      <td>1</td>\n",
       "      <td>2</td>\n",
       "      <td>NaN</td>\n",
       "      <td>...</td>\n",
       "      <td>1</td>\n",
       "      <td>1</td>\n",
       "      <td>-1</td>\n",
       "      <td>-1</td>\n",
       "      <td>-1</td>\n",
       "      <td>-1</td>\n",
       "      <td>-1</td>\n",
       "      <td>1</td>\n",
       "      <td>-1</td>\n",
       "      <td>-1</td>\n",
       "    </tr>\n",
       "    <tr>\n",
       "      <th>25484</th>\n",
       "      <td>99888</td>\n",
       "      <td>10</td>\n",
       "      <td>3661</td>\n",
       "      <td>58</td>\n",
       "      <td>1</td>\n",
       "      <td>3</td>\n",
       "      <td>1</td>\n",
       "      <td>1</td>\n",
       "      <td>1</td>\n",
       "      <td>NaN</td>\n",
       "      <td>...</td>\n",
       "      <td>1</td>\n",
       "      <td>1</td>\n",
       "      <td>-1</td>\n",
       "      <td>-1</td>\n",
       "      <td>-1</td>\n",
       "      <td>-1</td>\n",
       "      <td>-1</td>\n",
       "      <td>1</td>\n",
       "      <td>-1</td>\n",
       "      <td>-1</td>\n",
       "    </tr>\n",
       "    <tr>\n",
       "      <th>25485</th>\n",
       "      <td>99898</td>\n",
       "      <td>10</td>\n",
       "      <td>3626</td>\n",
       "      <td>55</td>\n",
       "      <td>1</td>\n",
       "      <td>4</td>\n",
       "      <td>1</td>\n",
       "      <td>1</td>\n",
       "      <td>1</td>\n",
       "      <td>NaN</td>\n",
       "      <td>...</td>\n",
       "      <td>1</td>\n",
       "      <td>1</td>\n",
       "      <td>-1</td>\n",
       "      <td>-1</td>\n",
       "      <td>-1</td>\n",
       "      <td>-1</td>\n",
       "      <td>-1</td>\n",
       "      <td>1</td>\n",
       "      <td>-1</td>\n",
       "      <td>-1</td>\n",
       "    </tr>\n",
       "    <tr>\n",
       "      <th>25486</th>\n",
       "      <td>99962</td>\n",
       "      <td>10</td>\n",
       "      <td>3647</td>\n",
       "      <td>57</td>\n",
       "      <td>3</td>\n",
       "      <td>2</td>\n",
       "      <td>1</td>\n",
       "      <td>1</td>\n",
       "      <td>1</td>\n",
       "      <td>NaN</td>\n",
       "      <td>...</td>\n",
       "      <td>1</td>\n",
       "      <td>1</td>\n",
       "      <td>-1</td>\n",
       "      <td>-1</td>\n",
       "      <td>-1</td>\n",
       "      <td>-1</td>\n",
       "      <td>-1</td>\n",
       "      <td>1</td>\n",
       "      <td>-1</td>\n",
       "      <td>-1</td>\n",
       "    </tr>\n",
       "  </tbody>\n",
       "</table>\n",
       "<p>25487 rows × 841 columns</p>\n",
       "</div>"
      ],
      "text/plain": [
       "       SWANID  VISIT INTDAY AGE LANGINT  RACE PREGNAN EATDRIN STRTPER DAYBLE  \\\n",
       "0       10046      1    413  53       1     2       1       1       2    411   \n",
       "1       10056      1    357  52       1     4       1       1       2    377   \n",
       "2       10092      1    364  46       1     4       1       1       1    NaN   \n",
       "3       10126      1    442  50       1     1       1       1       2    453   \n",
       "4       10153      1    374  52       1     3       1       1       2    399   \n",
       "...       ...    ...    ...  ..     ...   ...     ...     ...     ...    ...   \n",
       "25482   99805     10   3661  52       1     1       1       1       1    NaN   \n",
       "25483   99809     10   3624  53       1     4       1       1       2    NaN   \n",
       "25484   99888     10   3661  58       1     3       1       1       1    NaN   \n",
       "25485   99898     10   3626  55       1     4       1       1       1    NaN   \n",
       "25486   99962     10   3647  57       3     2       1       1       1    NaN   \n",
       "\n",
       "       ... OSTEIV1 OSTEON1 OSTNTW1 OSTN1W1 OSTEON2 OSTNTW2 OSTN1W2 SKCNCER  \\\n",
       "0      ...     NaN     NaN     NaN     NaN     NaN     NaN     NaN     NaN   \n",
       "1      ...     NaN     NaN     NaN     NaN     NaN     NaN     NaN     NaN   \n",
       "2      ...     NaN     NaN     NaN     NaN     NaN     NaN     NaN     NaN   \n",
       "3      ...     NaN     NaN     NaN     NaN     NaN     NaN     NaN     NaN   \n",
       "4      ...     NaN     NaN     NaN     NaN     NaN     NaN     NaN     NaN   \n",
       "...    ...     ...     ...     ...     ...     ...     ...     ...     ...   \n",
       "25482  ...       1       1      -1      -1      -1      -1      -1       1   \n",
       "25483  ...       1       1      -1      -1      -1      -1      -1       1   \n",
       "25484  ...       1       1      -1      -1      -1      -1      -1       1   \n",
       "25485  ...       1       1      -1      -1      -1      -1      -1       1   \n",
       "25486  ...       1       1      -1      -1      -1      -1      -1       1   \n",
       "\n",
       "      MECNCER NMECNCR  \n",
       "0         NaN     NaN  \n",
       "1         NaN     NaN  \n",
       "2         NaN     NaN  \n",
       "3         NaN     NaN  \n",
       "4         NaN     NaN  \n",
       "...       ...     ...  \n",
       "25482      -1      -1  \n",
       "25483      -1      -1  \n",
       "25484      -1      -1  \n",
       "25485      -1      -1  \n",
       "25486      -1      -1  \n",
       "\n",
       "[25487 rows x 841 columns]"
      ]
     },
     "execution_count": 3,
     "metadata": {},
     "output_type": "execute_result"
    }
   ],
   "source": [
    "data"
   ]
  },
  {
   "cell_type": "code",
   "execution_count": 4,
   "id": "584afe47",
   "metadata": {},
   "outputs": [],
   "source": [
    "# replacing blank cells with NaN\n",
    "data = data.replace(r'^\\s*$', np.nan, regex=True)\n",
    "\n",
    "for col in data.columns:\n",
    "    # removing columns about family age\n",
    "    if \"AGE\" in col and col != \"AGE\":\n",
    "        del data[col]\n",
    "    \n",
    "    # removing columns with > 75% NaN values\n",
    "    if col in data:\n",
    "        nas = data[col].isna().sum()\n",
    "        if nas > 3 * len(data[col]) / 4:\n",
    "            del data[col]\n"
   ]
  },
  {
   "cell_type": "markdown",
   "id": "694d4e05",
   "metadata": {},
   "source": [
    "# Part 4\n",
    "### Builds two visualizations (graphs) from the data which characterize the distribution of the data itself in some interesting way. Your visualizations will be graded based on how much information they can effectively communicate with readers. Please make sure your visualizations are sufficiently distinct from each other."
   ]
  },
  {
   "cell_type": "markdown",
   "id": "67b30055",
   "metadata": {},
   "source": [
    "For our visualizations, we built descriptive histograms for chosen features in order to better understand the distribution of physiological categories and other features of the data. Background research indicates that women with psychiatric conditions and emotion dysregulation may also have cardiovascular identifiers such as high blood pressure. We chose to plot histograms for questions features related to emotion regulation, diagnosis of high blood pressure, and feelings of mood for a given visit."
   ]
  },
  {
   "cell_type": "code",
   "execution_count": 5,
   "id": "2c8e113a",
   "metadata": {
    "scrolled": true
   },
   "outputs": [],
   "source": [
    "# read in the data for one visit\n",
    "visit1_df = pd.read_spss('0001-Data.sav')"
   ]
  },
  {
   "cell_type": "code",
   "execution_count": 6,
   "id": "7f0e2e65",
   "metadata": {},
   "outputs": [],
   "source": [
    "import matplotlib.pyplot as plt"
   ]
  },
  {
   "cell_type": "code",
   "execution_count": 7,
   "id": "3b4d5e76",
   "metadata": {},
   "outputs": [],
   "source": [
    "plt.style.use('seaborn')"
   ]
  },
  {
   "cell_type": "markdown",
   "id": "9d09b171",
   "metadata": {},
   "source": [
    "### Begin exploring features for machine learning through descriptive statistics and visualizations"
   ]
  },
  {
   "cell_type": "code",
   "execution_count": 8,
   "id": "f4ddf5f8",
   "metadata": {},
   "outputs": [
    {
     "data": {
      "text/plain": [
       "['No', 'Yes']\n",
       "Categories (2, object): ['No', 'Yes']"
      ]
     },
     "execution_count": 8,
     "metadata": {},
     "output_type": "execute_result"
    }
   ],
   "source": [
    "high_bp = visit1_df['HIGHBP5'].dropna()\n",
    "high_bp.unique() # this question is coded as yes/no, but all columns vary considerable in data type retrieved"
   ]
  },
  {
   "cell_type": "code",
   "execution_count": 9,
   "id": "7edf4eb3",
   "metadata": {},
   "outputs": [],
   "source": [
    "from collections import Counter"
   ]
  },
  {
   "cell_type": "code",
   "execution_count": 10,
   "id": "7e64ad55",
   "metadata": {},
   "outputs": [
    {
     "data": {
      "text/plain": [
       "(519, 2085)"
      ]
     },
     "execution_count": 10,
     "metadata": {},
     "output_type": "execute_result"
    }
   ],
   "source": [
    "# count the frequency of high bp for all samples\n",
    "cnt_highbp = Counter(high_bp)\n",
    "cnts = cnt_highbp['Yes'], cnt_highbp['No']\n",
    "cnts"
   ]
  },
  {
   "cell_type": "code",
   "execution_count": 11,
   "id": "8278a97d",
   "metadata": {},
   "outputs": [
    {
     "data": {
      "text/plain": [
       "<AxesSubplot:title={'center':'Women with High Blood Pressure'}>"
      ]
     },
     "execution_count": 11,
     "metadata": {},
     "output_type": "execute_result"
    },
    {
     "data": {
      "image/png": "[encoded data removed]",
      "text/plain": [
       "<Figure size 576x396 with 1 Axes>"
      ]
     },
     "metadata": {},
     "output_type": "display_data"
    }
   ],
   "source": [
    "# high blood pressure\n",
    "# yes/no question of whether this person has been diagnosed with high bp\n",
    "visit1_df['HIGHBP5'].value_counts().plot(kind='bar', style='seaborn', title='Women with High Blood Pressure')"
   ]
  },
  {
   "cell_type": "code",
   "execution_count": 12,
   "id": "a06390d8",
   "metadata": {
    "scrolled": false
   },
   "outputs": [
    {
     "data": {
      "text/plain": [
       "<AxesSubplot:title={'center':'Felt Happy'}>"
      ]
     },
     "execution_count": 12,
     "metadata": {},
     "output_type": "execute_result"
    },
    {
     "data": {
      "image/png": "[encoded data removed]",
      "text/plain": [
       "<Figure size 576x396 with 1 Axes>"
      ]
     },
     "metadata": {},
     "output_type": "display_data"
    }
   ],
   "source": [
    "# felt happy\n",
    "# this is a qualitative question asked on a likert scale about how happy the participant felt over the last week\n",
    "visit1_df['HAPPY5'].value_counts().plot(kind='bar', style='seaborn', title='Felt Happy')"
   ]
  },
  {
   "cell_type": "code",
   "execution_count": 13,
   "id": "932b65a7",
   "metadata": {
    "scrolled": true
   },
   "outputs": [
    {
     "data": {
      "text/plain": [
       "<AxesSubplot:title={'center':'Felt Supported'}>"
      ]
     },
     "execution_count": 13,
     "metadata": {},
     "output_type": "execute_result"
    },
    {
     "data": {
      "image/png": "[encoded data removed]",
      "text/plain": [
       "<Figure size 576x396 with 1 Axes>"
      ]
     },
     "metadata": {},
     "output_type": "display_data"
    }
   ],
   "source": [
    "# asks participants if how much they felt supported and listened to\n",
    "visit1_df['LISTEN5'].value_counts().plot(kind='bar', style='seaborn', title='Felt Supported')"
   ]
  },
  {
   "cell_type": "code",
   "execution_count": 14,
   "id": "cb0821d5",
   "metadata": {},
   "outputs": [
    {
     "data": {
      "text/plain": [
       "<AxesSubplot:title={'center':'Age'}>"
      ]
     },
     "execution_count": 14,
     "metadata": {},
     "output_type": "execute_result"
    },
    {
     "data": {
      "image/png": "[encoded data removed]",
      "text/plain": [
       "<Figure size 576x396 with 1 Axes>"
      ]
     },
     "metadata": {},
     "output_type": "display_data"
    }
   ],
   "source": [
    "# in order to better understand the variability in age of participants\n",
    "# visits are conducted every two years so at this particular visit, participants are about ten years into the study potentially\n",
    "visit1_df['AGE5'].value_counts().plot(kind='bar', style='seaborn', title='Age')"
   ]
  },
  {
   "cell_type": "code",
   "execution_count": 15,
   "id": "af299164",
   "metadata": {},
   "outputs": [
    {
     "data": {
      "text/plain": [
       "<AxesSubplot:title={'center':'Felt Lonely'}>"
      ]
     },
     "execution_count": 15,
     "metadata": {},
     "output_type": "execute_result"
    },
    {
     "data": {
      "image/png": "[encoded data removed]",
      "text/plain": [
       "<Figure size 576x396 with 1 Axes>"
      ]
     },
     "metadata": {},
     "output_type": "display_data"
    }
   ],
   "source": [
    "\n",
    "# asks participants about feelings of loneliness in a given time period\n",
    "visit1_df['LONELY5'].value_counts().plot(kind='bar', style='seaborn', title='Felt Lonely')"
   ]
  },
  {
   "cell_type": "markdown",
   "id": "e34d0552",
   "metadata": {},
   "source": [
    "# Part 5\n",
    "## Discuss what ML tools will be used and the relevant assumptions required to apply each. \n",
    "\n",
    "### Either: discuss why one algorithm may be chosen over the others or describe what subset of a whole suite of similar algorithms you’ll apply (its ok to say, ‘we’re going to try all of these because we don’t have reason to think one should be better than another’)"
   ]
  },
  {
   "cell_type": "markdown",
   "id": "5d9c1540",
   "metadata": {},
   "source": [
    "Classification algorithms use input data (“training data”) in order to predict the likelihood that some given data would fall into one of the categories determined by the training data. Since the problem at hand is one of classification, a handful of ML classification tools will be used. There are several algorithms available for this such as K Nearest neighbors and others including:\n",
    "\n",
    "- Logistic Regression\n",
    "- Naive Bayes\n",
    "- Decision Tree\n",
    "- Support Vector Machines\n",
    "\n",
    "We may plan to first implement a regression model inorder to predict the likelihood of a given disorder given a constellation of features. We may implement features of cardiovascular healthy, emotion regulation, age, and history of psychiatric symptoms in order to predict a disease category. However, at this stage it is not abundantly clear which disorders will provide the most predictive power. Therefore, we plan to continue our analyses to further reduce the dimensionality of our features."
   ]
  }
 ],
 "metadata": {
  "kernelspec": {
   "display_name": "Python 3",
   "language": "python",
   "name": "python3"
  },
  "language_info": {
   "codemirror_mode": {
    "name": "ipython",
    "version": 3
   },
   "file_extension": ".py",
   "mimetype": "text/x-python",
   "name": "python",
   "nbconvert_exporter": "python",
   "pygments_lexer": "ipython3",
   "version": "3.8.8"
  }
 },
 "nbformat": 4,
 "nbformat_minor": 5
}
