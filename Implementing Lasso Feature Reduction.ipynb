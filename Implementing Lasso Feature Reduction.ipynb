{
 "cells": [
  {
   "cell_type": "code",
   "execution_count": 1,
   "id": "d4c8322a",
   "metadata": {},
   "outputs": [
    {
     "name": "stderr",
     "output_type": "stream",
     "text": [
      "/Users/victoriamccray/opt/anaconda3/lib/python3.8/site-packages/IPython/core/interactiveshell.py:3165: DtypeWarning: Columns (3) have mixed types.Specify dtype option on import or set low_memory=False.\n",
      "  has_raised = await self.run_ast_nodes(code_ast.body, cell_name,\n",
      "/Users/victoriamccray/opt/anaconda3/lib/python3.8/site-packages/IPython/core/interactiveshell.py:3165: DtypeWarning: Columns (3,4,5,7,8,9,10,11,12,13,14,15,16,17,18,19,20,21,22,23,24,25,26,27,28,29,30,31,32,33,34,35,36,37,38,39,40,41,42,51,52,53,54,57,58,59,60,61,63,64,65,66,67,68,69,70,71,72,73,74,75,85,87,88,90,91,93,94,95,96,97,98,99,100,101,102,103,104,105,106,107,108,109,110,111,112,113,114,115,116,117,118,119,120,121,122,477,478,482,483,484,485,486,490,491,495,504,506,507,515,522,530,536,537,538,539,577) have mixed types.Specify dtype option on import or set low_memory=False.\n",
      "  has_raised = await self.run_ast_nodes(code_ast.body, cell_name,\n",
      "/Users/victoriamccray/opt/anaconda3/lib/python3.8/site-packages/IPython/core/interactiveshell.py:3165: DtypeWarning: Columns (3,4,5,51,57,63,67,71,504,522,1277) have mixed types.Specify dtype option on import or set low_memory=False.\n",
      "  has_raised = await self.run_ast_nodes(code_ast.body, cell_name,\n",
      "/Users/victoriamccray/opt/anaconda3/lib/python3.8/site-packages/IPython/core/interactiveshell.py:3165: DtypeWarning: Columns (2,3,4,5,6,7,8,9,10,11,12,13,14,15,16,17,18,19,20,21,22,23,24,25,26,27,28,29,30,31,32,33,34,35,36,37,38,39,40,41,46,47,48,49,50,51,52,53,56,57,58,59,60,61,62,63,64,65,66,67,68,69,70,71,72,73,74,75,84,86,87,90,91,94,95,96,97,98,99,100,101,102,103,104,105,106,107,108,109,110,111,112,113,114,115,116,117,118,119,120,121,122,123,477,478,482,483,484,485,486,490,491,492,495,504,506,507,515,522,523,525,530,535,536,537,538,563,567) have mixed types.Specify dtype option on import or set low_memory=False.\n",
      "  has_raised = await self.run_ast_nodes(code_ast.body, cell_name,\n"
     ]
    }
   ],
   "source": [
    "import pandas as pd\n",
    "import numpy as np\n",
    "\n",
    "data = pd.DataFrame()\n",
    "\n",
    "# reading in each of our ten files\n",
    "for i in range(1, 11):\n",
    "    filename = f\"0001-Data-{i}.tsv\"\n",
    "    \n",
    "    # reading visit file into a dataframe\n",
    "    with open(filename, \"r\") as infile:\n",
    "        visit_data = pd.read_csv(infile, sep = \"\\t\")\n",
    "        \n",
    "        # creating a column for the visit number\n",
    "        visit_data[\"visit\"] = i\n",
    "        \n",
    "        # removing the visit number from the end of each attribute name\n",
    "        for col in visit_data.columns:\n",
    "            if col[-len(str(i)):] == str(i):\n",
    "                visit_data.rename(columns={col:col[:-len(str(i))]}, inplace=True)\n",
    "        \n",
    "        # adding this visit data back to the merged dataframe\n",
    "        data = pd.concat([data, visit_data], ignore_index = True)"
   ]
  },
  {
   "cell_type": "code",
   "execution_count": 2,
   "id": "0b647c58",
   "metadata": {},
   "outputs": [],
   "source": [
    "# replacing blank cells with NaN\n",
    "data = data.replace(r'^\\s*$', np.nan, regex=True)\n",
    "\n",
    "for col in data.columns:\n",
    "    # removing columns about family age\n",
    "    if \"AGE\" in col and col != \"AGE\":\n",
    "        del data[col]\n",
    "    \n",
    "    # removing columns with > 75% NaN values\n",
    "    if col in data:\n",
    "        nas = data[col].isna().sum()\n",
    "        if nas > 3 * len(data[col]) / 4:\n",
    "            del data[col]\n"
   ]
  },
  {
   "cell_type": "code",
   "execution_count": 3,
   "id": "77e4f7c2",
   "metadata": {},
   "outputs": [],
   "source": [
    "# TODO implement lasso with all features of the data, \n",
    "# remove all null rows or estimate values because the model won't worrk with null rows"
   ]
  },
  {
   "cell_type": "code",
   "execution_count": 5,
   "id": "ba3ed104",
   "metadata": {},
   "outputs": [],
   "source": [
    "# test features with first columns\n",
    "col_list = list(data.columns[:7])"
   ]
  },
  {
   "cell_type": "code",
   "execution_count": 6,
   "id": "c0294936",
   "metadata": {},
   "outputs": [],
   "source": [
    "# test x feat with just int columns\n",
    "x = data.loc[:, col_list]\n",
    "# drop null rows\n",
    "x.dropna(axis=0, how='any', inplace=True)\n",
    "\n",
    "\n",
    "# age and id are columns for y df\n",
    "y = pd.DataFrame()\n",
    "\n",
    "y['AGE'] = x['AGE']\n",
    "y['SWANID'] = x['SWANID']\n",
    "\n",
    "# remove predicted feature\n",
    "x.drop(['AGE'], axis=1, inplace=True)\n"
   ]
  },
  {
   "cell_type": "code",
   "execution_count": 7,
   "id": "861e65c3",
   "metadata": {},
   "outputs": [
    {
     "data": {
      "text/plain": [
       "SWANID     0\n",
       "VISIT      0\n",
       "INTDAY     0\n",
       "LANGINT    0\n",
       "RACE       0\n",
       "PREGNAN    0\n",
       "dtype: int64"
      ]
     },
     "execution_count": 7,
     "metadata": {},
     "output_type": "execute_result"
    }
   ],
   "source": [
    "\n",
    "# check for null values by col\n",
    "pd.isnull(x).sum()"
   ]
  },
  {
   "cell_type": "code",
   "execution_count": 8,
   "id": "8dfb471a",
   "metadata": {},
   "outputs": [],
   "source": [
    "from sklearn.linear_model import LassoCV\n",
    "from sklearn.linear_model import Lasso\n",
    "from sklearn.model_selection import train_test_split\n",
    "from sklearn.metrics import r2_score"
   ]
  },
  {
   "cell_type": "code",
   "execution_count": 9,
   "id": "6977de09",
   "metadata": {},
   "outputs": [],
   "source": [
    "# split data by train and test\n",
    "X_train, X_test, y_train, y_test = train_test_split(x, y, test_size = 0.2, random_state=0)"
   ]
  },
  {
   "cell_type": "code",
   "execution_count": 10,
   "id": "0795089a",
   "metadata": {},
   "outputs": [
    {
     "name": "stdout",
     "output_type": "stream",
     "text": [
      "Lasso(alpha=0.1)\n",
      "r^2 on test data : 0.766279\n"
     ]
    }
   ],
   "source": [
    "# Lasso\n",
    "from sklearn.linear_model import Lasso\n",
    "\n",
    "alpha = 0.1\n",
    "lasso = Lasso(alpha=alpha)\n",
    "\n",
    "# fit lasso to data\n",
    "y_pred_lasso = lasso.fit(X_train, y_train).predict(X_test)\n",
    "r2_score_lasso = r2_score(y_test, y_pred_lasso)\n",
    "\n",
    "print(lasso)\n",
    "print(\"r^2 on test data : %f\" % r2_score_lasso)\n"
   ]
  },
  {
   "cell_type": "code",
   "execution_count": null,
   "id": "76978caa",
   "metadata": {},
   "outputs": [],
   "source": []
  }
 ],
 "metadata": {
  "kernelspec": {
   "display_name": "Python 3",
   "language": "python",
   "name": "python3"
  },
  "language_info": {
   "codemirror_mode": {
    "name": "ipython",
    "version": 3
   },
   "file_extension": ".py",
   "mimetype": "text/x-python",
   "name": "python",
   "nbconvert_exporter": "python",
   "pygments_lexer": "ipython3",
   "version": "3.8.8"
  }
 },
 "nbformat": 4,
 "nbformat_minor": 5
}
